{
 "cells": [
  {
   "cell_type": "code",
   "execution_count": null,
   "id": "b4ba33eb",
   "metadata": {},
   "outputs": [],
   "source": [
    "from pytube import YouTube\n",
    "#Copy YOUtube video URL and paste it here\n",
    "link='https://www.youtube.com/watch?v=E65NWik1B7I'\n",
    "y=YouTube(link)\n",
    "#YOU will get title the youtube video\n",
    "print(y.title)\n",
    "print()\n",
    "#YOU can check\n",
    "print('Check the thumbnail by clicking here:--->',y.thumbnail_url)\n",
    "print()\n",
    "\n",
    "video=y.streams.all()\n",
    "l=list(enumerate(video))\n",
    "for i in l:\n",
    "    print(i)\n",
    "print()\n",
    "# Enter the index at the starting of brackets like 0, 1, 2.........\n",
    "strm=int(input('Enter the index number for which type video you want: '))\n",
    "video[strm].download()\n",
    "#the video will downloaded and you can \n",
    "print('Downloaded Successfully')"
   ]
  }
 ],
 "metadata": {
  "kernelspec": {
   "display_name": "Python 3 (ipykernel)",
   "language": "python",
   "name": "python3"
  },
  "language_info": {
   "codemirror_mode": {
    "name": "ipython",
    "version": 3
   },
   "file_extension": ".py",
   "mimetype": "text/x-python",
   "name": "python",
   "nbconvert_exporter": "python",
   "pygments_lexer": "ipython3",
   "version": "3.9.12"
  }
 },
 "nbformat": 4,
 "nbformat_minor": 5
}
